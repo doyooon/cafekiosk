{
 "cells": [
  {
   "cell_type": "code",
   "execution_count": 1,
   "metadata": {},
   "outputs": [],
   "source": [
    "from konlpy.tag import Mecab\n",
    "from MeCab import Tagger\n",
    "MeCab = Mecab(dicpath=\"/usr/local/lib/mecab/dic/mecab-ko-dic\")"
   ]
  },
  {
   "cell_type": "code",
   "execution_count": 2,
   "metadata": {},
   "outputs": [],
   "source": [
    "def before(text):\n",
    "    \n",
    "    # mecabsplit 함수는 mecab_tagger, text, pos를 매개변수로 사용함.\n",
    "    def mecabsplit(mecab_tagger,text, pos): \n",
    "\n",
    "        r=[] # r 이라는 리스트를 생성\n",
    "        inputs = mecab_tagger.parse(text)\n",
    "\n",
    "        t = inputs.split('\\n')[:-2]\n",
    "\n",
    "        for i in t:\n",
    "            field = i.split('\\t')\n",
    "            if field[1].split(',')[-1] is not '*':\n",
    "                r.extend( [ (x.split('/')[0],x.split('/')[1]) for x in field[1].split(',')[-1].split('+') ] )\n",
    "            else:\n",
    "                r.append( (field[0],field[1].split(',')[0]) )\n",
    "        if pos:\n",
    "            return r\n",
    "        else:\n",
    "            return [ x[0] for x in r ]\n",
    "    \n",
    "    mecab_tagger = Tagger() # Mecab.Tagger()인식을 못해서 from Mecab import Tagger 선언 후 Tagger로 변경함. 2022.07.27\n",
    "    \n",
    "    a = mecab_tagger.parse(text)\n",
    "    t = a.split('\\n')[:-2]\n",
    "    tokenpointer = []\n",
    "    pointeroffset = 0\n",
    "\n",
    "    for i in t:\n",
    "        field = i.split('\\t')\n",
    "        if field[1].split(',')[-1] is not '*':\n",
    "            currentptr = text.index(field[0], pointeroffset)\n",
    "            for x in field[1].split(',')[-1].split('+'):\n",
    "                try:\n",
    "                    w = x.split('/')[0]\n",
    "                    temp = field[0].index(w)\n",
    "                    tokenpointer.append((currentptr + temp, currentptr + temp +len(w)))\n",
    "                except:\n",
    "                    tokenpointer.append((currentptr, currentptr + len(field[0])))\n",
    "            pointeroffset = currentptr + len(field[0])\n",
    "        else:\n",
    "            currentptr = text.index(field[0], pointeroffset)\n",
    "            tokenpointer.append( (currentptr, currentptr + len(field[0])) )\n",
    "            pointeroffset = currentptr + len(field[0])\n",
    "    words = mecabsplit(mecab_tagger, text, False)\n",
    "    tokens = []\n",
    "    offset = 0\n",
    "    # for word in words:\n",
    "    #     word_offset = tokenpointer[words.index(word, offset)][0]\n",
    "    #     tokens.append(Token(word, word_offset))\n",
    "    #     offset +=1      \n",
    "\n",
    "    return words  \n",
    "\n",
    "\n",
    "def after(text):\n",
    "    mecab_tagger = Tagger() # Mecab.Tagger()인식을 못해서 from Mecab import Tagger 선언 후 Tagger로 변경함. 2022.07.27\n",
    "\n",
    "    a = mecab_tagger.parse(text)\n",
    "    t = a.split('\\n')[:-2]\n",
    "    words = []\n",
    "    tokenpointer = []\n",
    "    pointeroffset = 0\n",
    "\n",
    "    for i in t:\n",
    "        field = i.split('\\t')\n",
    "        words.append(field[0])\n",
    "        currentptr = text.index(field[0], pointeroffset)\n",
    "        tokenpointer.append( (currentptr, currentptr + len(field[0])) )\n",
    "        pointeroffset = currentptr + len(field[0])\n",
    "\n",
    "    # tokens = []\n",
    "    # for word,offset in zip(words,tokenpointer):\n",
    "    #     tokens.append(Token(word,offset[0]))\n",
    "    \n",
    "    return words"
   ]
  },
  {
   "cell_type": "code",
   "execution_count": 16,
   "metadata": {},
   "outputs": [],
   "source": [
    "text = \"따뜻한 아메리카노 한잔 주세요\""
   ]
  },
  {
   "cell_type": "code",
   "execution_count": 17,
   "metadata": {},
   "outputs": [
    {
     "data": {
      "text/plain": [
       "['따뜻', '하', 'ᆫ', '아메리카노', '한', '잔', '주세', '이', '오']"
      ]
     },
     "execution_count": 17,
     "metadata": {},
     "output_type": "execute_result"
    }
   ],
   "source": [
    "before(text)"
   ]
  },
  {
   "cell_type": "code",
   "execution_count": 18,
   "metadata": {},
   "outputs": [
    {
     "data": {
      "text/plain": [
       "['따뜻', '한', '아메리카노', '한잔', '주세', '요']"
      ]
     },
     "execution_count": 18,
     "metadata": {},
     "output_type": "execute_result"
    }
   ],
   "source": [
    "after(text)"
   ]
  },
  {
   "cell_type": "code",
   "execution_count": 7,
   "metadata": {},
   "outputs": [
    {
     "data": {
      "text/plain": [
       "[('아메리카노', 'NNP'),\n",
       " ('뜨겁', 'VA'),\n",
       " ('게', 'EC'),\n",
       " ('해서', 'VV+EC'),\n",
       " ('한잔', 'NNG'),\n",
       " ('주세', 'NNG'),\n",
       " ('요', 'VCP+EC')]"
      ]
     },
     "execution_count": 7,
     "metadata": {},
     "output_type": "execute_result"
    }
   ],
   "source": [
    "MeCab.pos(\"아메리카노 뜨겁게 해서 한잔 주세요\")"
   ]
  },
  {
   "cell_type": "code",
   "execution_count": null,
   "metadata": {},
   "outputs": [],
   "source": []
  }
 ],
 "metadata": {
  "kernelspec": {
   "display_name": "rasa",
   "language": "python",
   "name": "python3"
  },
  "language_info": {
   "codemirror_mode": {
    "name": "ipython",
    "version": 3
   },
   "file_extension": ".py",
   "mimetype": "text/x-python",
   "name": "python",
   "nbconvert_exporter": "python",
   "pygments_lexer": "ipython3",
   "version": "3.7.12"
  }
 },
 "nbformat": 4,
 "nbformat_minor": 2
}
